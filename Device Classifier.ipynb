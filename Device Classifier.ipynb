{
 "cells": [
  {
   "cell_type": "code",
   "execution_count": 2,
   "metadata": {},
   "outputs": [],
   "source": [
    "# Paste your API key for IBM Watson Visual Recognition below: OSKAR\n",
    "my_apikey = 'B5b3G2VOKRLtUDxgk0GenbY_qv59-OdotwhdWK29x8gJ'\n",
    "import time"
   ]
  },
  {
   "cell_type": "code",
   "execution_count": 3,
   "metadata": {},
   "outputs": [],
   "source": [
    "from ibm_watson import VisualRecognitionV3\n",
    "from ibm_cloud_sdk_core.authenticators import IAMAuthenticator\n",
    "authenticator = IAMAuthenticator(my_apikey)\n",
    "\n",
    "visrec = VisualRecognitionV3('2020-04-13', \n",
    "                             authenticator=authenticator)"
   ]
  },
  {
   "cell_type": "markdown",
   "metadata": {},
   "source": [
    "import json\n",
    "with open('Motor.zip', 'rb') as Motor, \\\n",
    "     open('PP.zip', 'rb') as PowerPlant, \\\n",
    "     open('SS.zip', 'rb') as Substation, \\\n",
    "     open('Transformer.zip', 'rb') as Transformer, \\\n",
    "     open('Transmission Lines.zip', 'rb') as TransmissionLine:\n",
    "        response = visrec.create_classifier(name=\"Device Classifier\",\n",
    "                                        positive_examples={'Motor': Motor, \\\n",
    "                                                           'Power plant': PowerPlant, \\\n",
    "                                                           'Substation': Substation, \\\n",
    "                                                           'Transformer': Transformer, \\\n",
    "                                                           'Transmission line': TransmissionLine})\n",
    "print(json.dumps(response.get_result(), indent=2))"
   ]
  },
  {
   "cell_type": "code",
   "execution_count": 4,
   "metadata": {},
   "outputs": [
    {
     "data": {
      "text/plain": [
       "'DeviceClassifier_1744264373'"
      ]
     },
     "execution_count": 4,
     "metadata": {},
     "output_type": "execute_result"
    }
   ],
   "source": [
    "#lets grab the classifier id\n",
    "classifier_id = 'DeviceClassifier_1744264373'\n",
    "classifier_id"
   ]
  },
  {
   "cell_type": "markdown",
   "metadata": {},
   "source": [
    "Status = visrec.get_classifier(classifier_id=classifier_id, verbose=True).get_result()['status']\n",
    "if Status=='training': \n",
    "    print (\"Please, Wait to complete training.......\")\n",
    "else:\n",
    "    print(\"Good to go \")"
   ]
  },
  {
   "cell_type": "markdown",
   "metadata": {},
   "source": [
    "print(time.ctime())\n",
    "while(True):\n",
    "    Status = visrec.get_classifier(classifier_id=classifier_id, verbose=True).get_result()['status']\n",
    "    if Status!='training': \n",
    "        print(time.ctime())\n",
    "        break"
   ]
  },
  {
   "cell_type": "code",
   "execution_count": 5,
   "metadata": {},
   "outputs": [
    {
     "data": {
      "text/plain": [
       "{'classifiers': [{'classifier_id': 'DeviceClassifier_1744264373',\n",
       "   'name': 'Device Classifier',\n",
       "   'status': 'ready',\n",
       "   'owner': '706f8941-1721-4c87-8296-8c489ffe8cca',\n",
       "   'created': '2020-04-13T07:23:27.025Z',\n",
       "   'updated': '2020-04-13T07:23:27.025Z',\n",
       "   'classes': [{'class': 'PP'},\n",
       "    {'class': 'Transformer'},\n",
       "    {'class': 'Transmission Lines'},\n",
       "    {'class': 'SS'},\n",
       "    {'class': 'Motor'}],\n",
       "   'core_ml_enabled': True}]}"
      ]
     },
     "execution_count": 5,
     "metadata": {},
     "output_type": "execute_result"
    }
   ],
   "source": [
    "visrec.list_classifiers(verbose=True).get_result()"
   ]
  },
  {
   "cell_type": "markdown",
   "metadata": {},
   "source": [
    "import json\n",
    "visual_recognition = VisualRecognitionV3(\n",
    "    version='2018-03-19',\n",
    "    authenticator=authenticator\n",
    ")\n",
    "\n",
    "with open('./Motor 1.jpg', 'rb') as images_file:\n",
    "    classes = visual_recognition.classify(\n",
    "        images_file=images_file,\n",
    "        threshold='0.6',\n",
    "        owners=[\"me\"]).get_result()\n",
    "    print(json.dumps(classes, indent=2))"
   ]
  },
  {
   "cell_type": "code",
   "execution_count": 14,
   "metadata": {},
   "outputs": [],
   "source": [
    "from pandas.io.json import json_normalize\n",
    "\n",
    "def getdf_visrec(images_file, apikey = my_apikey):\n",
    "    \n",
    "    json_result = visrec.classify(images_file = images_file,\n",
    "                              threshold='0.6',\n",
    "                              classifier_ids=classifier_id).get_result()\n",
    "    \n",
    "    json_classes = json_result['images'][0]['classifiers'][0]['classes']\n",
    "    \n",
    "    df = json_normalize(json_classes).sort_values('score', ascending=False).reset_index(drop=True)\n",
    "    \n",
    "    return json_classes"
   ]
  },
  {
   "cell_type": "code",
   "execution_count": 15,
   "metadata": {},
   "outputs": [
    {
     "data": {
      "text/plain": [
       "'Motor'"
      ]
     },
     "execution_count": 15,
     "metadata": {},
     "output_type": "execute_result"
    }
   ],
   "source": [
    "getdf_visrec(images_file = open('./Motor 1.jpg', 'rb'))[0]['class']"
   ]
  },
  {
   "cell_type": "code",
   "execution_count": null,
   "metadata": {},
   "outputs": [],
   "source": []
  }
 ],
 "metadata": {
  "kernelspec": {
   "display_name": "Python 3",
   "language": "python",
   "name": "python3"
  },
  "language_info": {
   "codemirror_mode": {
    "name": "ipython",
    "version": 3
   },
   "file_extension": ".py",
   "mimetype": "text/x-python",
   "name": "python",
   "nbconvert_exporter": "python",
   "pygments_lexer": "ipython3",
   "version": "3.6.9"
  }
 },
 "nbformat": 4,
 "nbformat_minor": 2
}
